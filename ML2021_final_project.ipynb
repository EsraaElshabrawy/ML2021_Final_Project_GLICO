{
  "nbformat": 4,
  "nbformat_minor": 0,
  "metadata": {
    "colab": {
      "name": "ML2021_final_project.ipynb",
      "provenance": []
    },
    "kernelspec": {
      "name": "python3",
      "display_name": "Python 3"
    },
    "language_info": {
      "name": "python"
    },
    "widgets": {
      "application/vnd.jupyter.widget-state+json": {
        "db31b030b65e40458ba6211484456f5a": {
          "model_module": "@jupyter-widgets/controls",
          "model_name": "HBoxModel",
          "state": {
            "_view_name": "HBoxView",
            "_dom_classes": [],
            "_model_name": "HBoxModel",
            "_view_module": "@jupyter-widgets/controls",
            "_model_module_version": "1.5.0",
            "_view_count": null,
            "_view_module_version": "1.5.0",
            "box_style": "",
            "layout": "IPY_MODEL_36fd12a8cb804cc69d52b3a55073e937",
            "_model_module": "@jupyter-widgets/controls",
            "children": [
              "IPY_MODEL_6a3271af4cb0422d87e14d646733bd56",
              "IPY_MODEL_9179bf34c709465d96f9432ae7b990a0"
            ]
          }
        },
        "36fd12a8cb804cc69d52b3a55073e937": {
          "model_module": "@jupyter-widgets/base",
          "model_name": "LayoutModel",
          "state": {
            "_view_name": "LayoutView",
            "grid_template_rows": null,
            "right": null,
            "justify_content": null,
            "_view_module": "@jupyter-widgets/base",
            "overflow": null,
            "_model_module_version": "1.2.0",
            "_view_count": null,
            "flex_flow": null,
            "width": null,
            "min_width": null,
            "border": null,
            "align_items": null,
            "bottom": null,
            "_model_module": "@jupyter-widgets/base",
            "top": null,
            "grid_column": null,
            "overflow_y": null,
            "overflow_x": null,
            "grid_auto_flow": null,
            "grid_area": null,
            "grid_template_columns": null,
            "flex": null,
            "_model_name": "LayoutModel",
            "justify_items": null,
            "grid_row": null,
            "max_height": null,
            "align_content": null,
            "visibility": null,
            "align_self": null,
            "height": null,
            "min_height": null,
            "padding": null,
            "grid_auto_rows": null,
            "grid_gap": null,
            "max_width": null,
            "order": null,
            "_view_module_version": "1.2.0",
            "grid_template_areas": null,
            "object_position": null,
            "object_fit": null,
            "grid_auto_columns": null,
            "margin": null,
            "display": null,
            "left": null
          }
        },
        "6a3271af4cb0422d87e14d646733bd56": {
          "model_module": "@jupyter-widgets/controls",
          "model_name": "FloatProgressModel",
          "state": {
            "_view_name": "ProgressView",
            "style": "IPY_MODEL_6d20a613d320466496391fa4acb51acb",
            "_dom_classes": [],
            "description": "",
            "_model_name": "FloatProgressModel",
            "bar_style": "success",
            "max": 169001437,
            "_view_module": "@jupyter-widgets/controls",
            "_model_module_version": "1.5.0",
            "value": 169001437,
            "_view_count": null,
            "_view_module_version": "1.5.0",
            "orientation": "horizontal",
            "min": 0,
            "description_tooltip": null,
            "_model_module": "@jupyter-widgets/controls",
            "layout": "IPY_MODEL_e798c33bcfb34cf6a6efe603baf3e83c"
          }
        },
        "9179bf34c709465d96f9432ae7b990a0": {
          "model_module": "@jupyter-widgets/controls",
          "model_name": "HTMLModel",
          "state": {
            "_view_name": "HTMLView",
            "style": "IPY_MODEL_eedea947131e4c5e99cacf98431d7367",
            "_dom_classes": [],
            "description": "",
            "_model_name": "HTMLModel",
            "placeholder": "​",
            "_view_module": "@jupyter-widgets/controls",
            "_model_module_version": "1.5.0",
            "value": " 169001984/? [00:58&lt;00:00, 2911597.54it/s]",
            "_view_count": null,
            "_view_module_version": "1.5.0",
            "description_tooltip": null,
            "_model_module": "@jupyter-widgets/controls",
            "layout": "IPY_MODEL_75fafcb48ef746c5ab7fe96b5d00a09f"
          }
        },
        "6d20a613d320466496391fa4acb51acb": {
          "model_module": "@jupyter-widgets/controls",
          "model_name": "ProgressStyleModel",
          "state": {
            "_view_name": "StyleView",
            "_model_name": "ProgressStyleModel",
            "description_width": "initial",
            "_view_module": "@jupyter-widgets/base",
            "_model_module_version": "1.5.0",
            "_view_count": null,
            "_view_module_version": "1.2.0",
            "bar_color": null,
            "_model_module": "@jupyter-widgets/controls"
          }
        },
        "e798c33bcfb34cf6a6efe603baf3e83c": {
          "model_module": "@jupyter-widgets/base",
          "model_name": "LayoutModel",
          "state": {
            "_view_name": "LayoutView",
            "grid_template_rows": null,
            "right": null,
            "justify_content": null,
            "_view_module": "@jupyter-widgets/base",
            "overflow": null,
            "_model_module_version": "1.2.0",
            "_view_count": null,
            "flex_flow": null,
            "width": null,
            "min_width": null,
            "border": null,
            "align_items": null,
            "bottom": null,
            "_model_module": "@jupyter-widgets/base",
            "top": null,
            "grid_column": null,
            "overflow_y": null,
            "overflow_x": null,
            "grid_auto_flow": null,
            "grid_area": null,
            "grid_template_columns": null,
            "flex": null,
            "_model_name": "LayoutModel",
            "justify_items": null,
            "grid_row": null,
            "max_height": null,
            "align_content": null,
            "visibility": null,
            "align_self": null,
            "height": null,
            "min_height": null,
            "padding": null,
            "grid_auto_rows": null,
            "grid_gap": null,
            "max_width": null,
            "order": null,
            "_view_module_version": "1.2.0",
            "grid_template_areas": null,
            "object_position": null,
            "object_fit": null,
            "grid_auto_columns": null,
            "margin": null,
            "display": null,
            "left": null
          }
        },
        "eedea947131e4c5e99cacf98431d7367": {
          "model_module": "@jupyter-widgets/controls",
          "model_name": "DescriptionStyleModel",
          "state": {
            "_view_name": "StyleView",
            "_model_name": "DescriptionStyleModel",
            "description_width": "",
            "_view_module": "@jupyter-widgets/base",
            "_model_module_version": "1.5.0",
            "_view_count": null,
            "_view_module_version": "1.2.0",
            "_model_module": "@jupyter-widgets/controls"
          }
        },
        "75fafcb48ef746c5ab7fe96b5d00a09f": {
          "model_module": "@jupyter-widgets/base",
          "model_name": "LayoutModel",
          "state": {
            "_view_name": "LayoutView",
            "grid_template_rows": null,
            "right": null,
            "justify_content": null,
            "_view_module": "@jupyter-widgets/base",
            "overflow": null,
            "_model_module_version": "1.2.0",
            "_view_count": null,
            "flex_flow": null,
            "width": null,
            "min_width": null,
            "border": null,
            "align_items": null,
            "bottom": null,
            "_model_module": "@jupyter-widgets/base",
            "top": null,
            "grid_column": null,
            "overflow_y": null,
            "overflow_x": null,
            "grid_auto_flow": null,
            "grid_area": null,
            "grid_template_columns": null,
            "flex": null,
            "_model_name": "LayoutModel",
            "justify_items": null,
            "grid_row": null,
            "max_height": null,
            "align_content": null,
            "visibility": null,
            "align_self": null,
            "height": null,
            "min_height": null,
            "padding": null,
            "grid_auto_rows": null,
            "grid_gap": null,
            "max_width": null,
            "order": null,
            "_view_module_version": "1.2.0",
            "grid_template_areas": null,
            "object_position": null,
            "object_fit": null,
            "grid_auto_columns": null,
            "margin": null,
            "display": null,
            "left": null
          }
        },
        "ea7620deb3554bae9ddbfb2130cae112": {
          "model_module": "@jupyter-widgets/controls",
          "model_name": "HBoxModel",
          "state": {
            "_view_name": "HBoxView",
            "_dom_classes": [],
            "_model_name": "HBoxModel",
            "_view_module": "@jupyter-widgets/controls",
            "_model_module_version": "1.5.0",
            "_view_count": null,
            "_view_module_version": "1.5.0",
            "box_style": "",
            "layout": "IPY_MODEL_ade3f1be63c54aabb57f0c5f9c56b2e9",
            "_model_module": "@jupyter-widgets/controls",
            "children": [
              "IPY_MODEL_26e9a604a60a45f58be77020fa0ec116",
              "IPY_MODEL_a79806a369324de9939256d24d99a74e"
            ]
          }
        },
        "ade3f1be63c54aabb57f0c5f9c56b2e9": {
          "model_module": "@jupyter-widgets/base",
          "model_name": "LayoutModel",
          "state": {
            "_view_name": "LayoutView",
            "grid_template_rows": null,
            "right": null,
            "justify_content": null,
            "_view_module": "@jupyter-widgets/base",
            "overflow": null,
            "_model_module_version": "1.2.0",
            "_view_count": null,
            "flex_flow": null,
            "width": null,
            "min_width": null,
            "border": null,
            "align_items": null,
            "bottom": null,
            "_model_module": "@jupyter-widgets/base",
            "top": null,
            "grid_column": null,
            "overflow_y": null,
            "overflow_x": null,
            "grid_auto_flow": null,
            "grid_area": null,
            "grid_template_columns": null,
            "flex": null,
            "_model_name": "LayoutModel",
            "justify_items": null,
            "grid_row": null,
            "max_height": null,
            "align_content": null,
            "visibility": null,
            "align_self": null,
            "height": null,
            "min_height": null,
            "padding": null,
            "grid_auto_rows": null,
            "grid_gap": null,
            "max_width": null,
            "order": null,
            "_view_module_version": "1.2.0",
            "grid_template_areas": null,
            "object_position": null,
            "object_fit": null,
            "grid_auto_columns": null,
            "margin": null,
            "display": null,
            "left": null
          }
        },
        "26e9a604a60a45f58be77020fa0ec116": {
          "model_module": "@jupyter-widgets/controls",
          "model_name": "FloatProgressModel",
          "state": {
            "_view_name": "ProgressView",
            "style": "IPY_MODEL_d73e38bab72f4ed7a5324e90027a646a",
            "_dom_classes": [],
            "description": "",
            "_model_name": "FloatProgressModel",
            "bar_style": "success",
            "max": 169001437,
            "_view_module": "@jupyter-widgets/controls",
            "_model_module_version": "1.5.0",
            "value": 169001437,
            "_view_count": null,
            "_view_module_version": "1.5.0",
            "orientation": "horizontal",
            "min": 0,
            "description_tooltip": null,
            "_model_module": "@jupyter-widgets/controls",
            "layout": "IPY_MODEL_7ac992c584264d76a4699a18274f8f2f"
          }
        },
        "a79806a369324de9939256d24d99a74e": {
          "model_module": "@jupyter-widgets/controls",
          "model_name": "HTMLModel",
          "state": {
            "_view_name": "HTMLView",
            "style": "IPY_MODEL_3074a046b642482bbfd262bdb54d28e3",
            "_dom_classes": [],
            "description": "",
            "_model_name": "HTMLModel",
            "placeholder": "​",
            "_view_module": "@jupyter-widgets/controls",
            "_model_module_version": "1.5.0",
            "value": " 169001984/? [00:07&lt;00:00, 21549893.09it/s]",
            "_view_count": null,
            "_view_module_version": "1.5.0",
            "description_tooltip": null,
            "_model_module": "@jupyter-widgets/controls",
            "layout": "IPY_MODEL_7aa81be1df7c4200a56ac11642134ef9"
          }
        },
        "d73e38bab72f4ed7a5324e90027a646a": {
          "model_module": "@jupyter-widgets/controls",
          "model_name": "ProgressStyleModel",
          "state": {
            "_view_name": "StyleView",
            "_model_name": "ProgressStyleModel",
            "description_width": "initial",
            "_view_module": "@jupyter-widgets/base",
            "_model_module_version": "1.5.0",
            "_view_count": null,
            "_view_module_version": "1.2.0",
            "bar_color": null,
            "_model_module": "@jupyter-widgets/controls"
          }
        },
        "7ac992c584264d76a4699a18274f8f2f": {
          "model_module": "@jupyter-widgets/base",
          "model_name": "LayoutModel",
          "state": {
            "_view_name": "LayoutView",
            "grid_template_rows": null,
            "right": null,
            "justify_content": null,
            "_view_module": "@jupyter-widgets/base",
            "overflow": null,
            "_model_module_version": "1.2.0",
            "_view_count": null,
            "flex_flow": null,
            "width": null,
            "min_width": null,
            "border": null,
            "align_items": null,
            "bottom": null,
            "_model_module": "@jupyter-widgets/base",
            "top": null,
            "grid_column": null,
            "overflow_y": null,
            "overflow_x": null,
            "grid_auto_flow": null,
            "grid_area": null,
            "grid_template_columns": null,
            "flex": null,
            "_model_name": "LayoutModel",
            "justify_items": null,
            "grid_row": null,
            "max_height": null,
            "align_content": null,
            "visibility": null,
            "align_self": null,
            "height": null,
            "min_height": null,
            "padding": null,
            "grid_auto_rows": null,
            "grid_gap": null,
            "max_width": null,
            "order": null,
            "_view_module_version": "1.2.0",
            "grid_template_areas": null,
            "object_position": null,
            "object_fit": null,
            "grid_auto_columns": null,
            "margin": null,
            "display": null,
            "left": null
          }
        },
        "3074a046b642482bbfd262bdb54d28e3": {
          "model_module": "@jupyter-widgets/controls",
          "model_name": "DescriptionStyleModel",
          "state": {
            "_view_name": "StyleView",
            "_model_name": "DescriptionStyleModel",
            "description_width": "",
            "_view_module": "@jupyter-widgets/base",
            "_model_module_version": "1.5.0",
            "_view_count": null,
            "_view_module_version": "1.2.0",
            "_model_module": "@jupyter-widgets/controls"
          }
        },
        "7aa81be1df7c4200a56ac11642134ef9": {
          "model_module": "@jupyter-widgets/base",
          "model_name": "LayoutModel",
          "state": {
            "_view_name": "LayoutView",
            "grid_template_rows": null,
            "right": null,
            "justify_content": null,
            "_view_module": "@jupyter-widgets/base",
            "overflow": null,
            "_model_module_version": "1.2.0",
            "_view_count": null,
            "flex_flow": null,
            "width": null,
            "min_width": null,
            "border": null,
            "align_items": null,
            "bottom": null,
            "_model_module": "@jupyter-widgets/base",
            "top": null,
            "grid_column": null,
            "overflow_y": null,
            "overflow_x": null,
            "grid_auto_flow": null,
            "grid_area": null,
            "grid_template_columns": null,
            "flex": null,
            "_model_name": "LayoutModel",
            "justify_items": null,
            "grid_row": null,
            "max_height": null,
            "align_content": null,
            "visibility": null,
            "align_self": null,
            "height": null,
            "min_height": null,
            "padding": null,
            "grid_auto_rows": null,
            "grid_gap": null,
            "max_width": null,
            "order": null,
            "_view_module_version": "1.2.0",
            "grid_template_areas": null,
            "object_position": null,
            "object_fit": null,
            "grid_auto_columns": null,
            "margin": null,
            "display": null,
            "left": null
          }
        }
      }
    }
  },
  "cells": [
    {
      "cell_type": "markdown",
      "metadata": {
        "id": "AiYPfD8jKvix"
      },
      "source": [
        "# Generative Latent Implicit Conditional Optimization when Learning from Small Sample - Replication project\n",
        "(Machine Learning 2021 Course project)"
      ]
    },
    {
      "cell_type": "markdown",
      "metadata": {
        "id": "BMvvYQN6KnBy"
      },
      "source": [
        "Imports:\n"
      ]
    },
    {
      "cell_type": "code",
      "metadata": {
        "id": "Jz7Y-sNqKlw7"
      },
      "source": [
        "import numpy as np\n",
        "import torch\n",
        "import torchvision\n",
        "import torch.nn as nn\n",
        "import torch.utils.data as torch_data\n",
        "from sklearn.model_selection import train_test_split\n",
        "from torchvision import datasets, models, transforms\n",
        "from collections import defaultdict\n",
        "from tqdm import trange\n",
        "\n"
      ],
      "execution_count": 13,
      "outputs": []
    },
    {
      "cell_type": "markdown",
      "metadata": {
        "id": "t9UnwkH7KNMO"
      },
      "source": [
        "## 1.Implement GLICO"
      ]
    },
    {
      "cell_type": "markdown",
      "metadata": {
        "id": "HZvaL-5SLOvs"
      },
      "source": [
        "Model consists of 3 parts ( Network-Z, Generator, Classifier). <br>\n",
        "Network-Z  ---> Maps each image $x_{i}$ from image space to vector $z_{i}$ in the latent space <br> \n",
        "Genterator ---> Takes the $z_{i}$ vector concatenated with noise vector $\\varepsilon$ generating reconstructed image $\\hat{x}$ <br>\n",
        "Classifier ---> Generated image $\\hat{x}$together with label $y_{i}$ trains a week classifier"
      ]
    },
    {
      "cell_type": "markdown",
      "metadata": {
        "id": "up10WJkpeBRa"
      },
      "source": [
        "![image.png](data:image/png;base64,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)"
      ]
    },
    {
      "cell_type": "code",
      "metadata": {
        "id": "P9inhYVjpjfJ"
      },
      "source": [
        "class netZ(nn.Module):\n",
        "\tdef __init__(self, dic_size, vec_siz):\n",
        "\t\tsuper(netZ, self).__init__()\n",
        "\t\tself.dic_size = dic_size\n",
        "\t\tself.vec_siz = vec_siz\n",
        "\t\tself.emb = nn.Embedding(self.dic_size, self.vec_siz)\n",
        "\n",
        "\tdef forward(self, x):\n",
        "\t\tz = self.emb(x).squeeze()\n",
        "\t\treturn z"
      ],
      "execution_count": 4,
      "outputs": []
    },
    {
      "cell_type": "markdown",
      "metadata": {
        "id": "lFDs7I371W5N"
      },
      "source": [
        "### Generator (DCGAN archetichture)"
      ]
    },
    {
      "cell_type": "markdown",
      "metadata": {
        "id": "J0cCs3TlV8iV"
      },
      "source": [
        "![image.png](data:image/png;base64,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)"
      ]
    },
    {
      "cell_type": "markdown",
      "metadata": {
        "id": "Rw3bDkHM2viN"
      },
      "source": [
        "DCGAN architecture is a fully convolutional network.\n",
        "All of the operations will be through strided convolutions only.\n",
        "We will use the ReLU activation function in all the layers of the generator, except for the last one. For the last convolutional layer, we will use Tanh activation function."
      ]
    },
    {
      "cell_type": "code",
      "metadata": {
        "id": "B3iwwdSH1U19"
      },
      "source": [
        "class Generator(nn.Module):\n",
        "\tdef __init__(self, z_dim, img_size, n_channels, noise=False, noise_projection=False):\n",
        "\t\tsuper(Generator, self).__init__()\n",
        "\t\tself.noise_projection = noise_projection\n",
        "\t\tself.dim_im = 512 * (img_size // 8) * (img_size // 8)\n",
        "\t\tprojection_size = 100\n",
        "\t\tself.input_dim = z_dim\n",
        "\t\tself.noise = noise\n",
        "\t\tif noise:\n",
        "\t\t\tself.input_dim += projection_size\n",
        "\t\tself.lin_code = nn.Linear(100, projection_size, bias=False)\n",
        "\t\tself.lin_in = nn.Linear(self.input_dim, 1024, bias=False)\n",
        "\t\tself.lin_im = nn.Linear(1024, self.dim_im, bias=False)\n",
        "\n",
        "\t\tself.conv1 = nn.ConvTranspose2d(512, 256, 4, 2, 1, bias=True)\n",
        "\t\tself.bn_conv1 = nn.BatchNorm2d(256)\n",
        "\n",
        "\t\tself.conv2 = nn.ConvTranspose2d(256, 128, 4, 2, 1, bias=True)\n",
        "\t\tself.bn_conv2 = nn.BatchNorm2d(128)\n",
        "\n",
        "\t\tself.conv3 = nn.ConvTranspose2d(128, 64, 4, 2, 1, bias=True)\n",
        "\t\tself.bn_conv3 = nn.BatchNorm2d(64)\n",
        "\n",
        "\t\tself.conv4 = nn.ConvTranspose2d(64, n_channels, 4, 2, 1, bias=True)\n",
        "\t\tself.bn_conv4 = nn.BatchNorm2d(n_channels)\n",
        "\n",
        "\t\tself.tanh = nn.Tanh()\n",
        "\t\tself.relu = nn.LeakyReLU(inplace=True)\n",
        "\n",
        "\n",
        "\tdef forward(self, z, code):\n",
        "\t\tzn = z.norm(2, 1).detach().unsqueeze(1).expand_as(z)\n",
        "\t\tz = z.div(zn)\n",
        "\t\tif self.noise_projection:\n",
        "\t\t\tcode = self.lin_code(code)\n",
        "\t\t\tcode = self.relu(code)\n",
        "\t\tif self.noise:\n",
        "\t\t\tz = torch.cat((z.view(z.size(0), -1), code), -1)\n",
        "\t\tz = self.lin_in(z)\n",
        "\t\tprint(z.shape)\n",
        "\t\tz = self.relu(z)\n",
        "\t\tz = self.lin_im(z)\n",
        "\t\tprint(z.shape)\n",
        "\t\tz = self.relu(z)\n",
        "\t\tz = z.view(-1, 512, self.sz // 8, self.sz // 8)\n",
        "\n",
        "\t\tz = self.conv1(z)\n",
        "\t\tz = self.bn_conv1(z)\n",
        "\t\tz = self.relu(z)\n",
        "\n",
        "\t\tz = self.conv2(z)\n",
        "\t\tz = self.bn_conv2(z)\n",
        "\t\tz = self.relu(z)\n",
        "\n",
        "\t\tz = self.conv3(z)\n",
        "\t\tz = self.bn_conv3(z)\n",
        "\t\tz = self.relu(z)\n",
        "\n",
        "\t\tz = self.conv4(z)\n",
        "\t\tz = self.bn_conv4(z)\n",
        "\t\toutput = self.tanh(z)\n",
        "\n",
        "\t\treturn output"
      ],
      "execution_count": 5,
      "outputs": []
    },
    {
      "cell_type": "markdown",
      "metadata": {
        "id": "gHtU7fOkEzy9"
      },
      "source": [
        "A week classifier is used in the paper consisting of small CNN with 4 convolutional layers."
      ]
    },
    {
      "cell_type": "code",
      "metadata": {
        "id": "TI1e9U9rDVCD"
      },
      "source": [
        "class Classifier(nn.Module):\n",
        "\tdef __init__(self, num_classes, dim=64, im_size=32):\n",
        "\t\tsuper(Classifier, self).__init__()\n",
        "\t\tself.n_filters = dim\n",
        "\t\tds_size = im_size // 2 ** 4\n",
        "\n",
        "\t\tself.layer1 = nn.Sequential(nn.Conv2d(3, self.n_filters, kernel_size=3, stride=1, padding=1, bias=True),\n",
        "\t                              nn.BatchNorm2d(self.n_filters), nn.LeakyReLU(True),\n",
        "\t                              nn.MaxPool2d(kernel_size=2, stride=2, return_indices=False))\n",
        "\t\tself.lrelu = nn.LeakyReLU(0.1)\n",
        "\t\tself.layer2 = nn.Sequential(nn.Conv2d(self.n_filters, self.n_filters, kernel_size=3, stride=1, padding=1, bias=True),\n",
        "\t                              nn.BatchNorm2d(self.n_filters), nn.LeakyReLU(True),\n",
        "\t                              nn.MaxPool2d(kernel_size=2, stride=2, return_indices=False))\n",
        "\t\tself.layer3 = nn.Sequential(nn.Conv2d(self.n_filters, self.n_filters, kernel_size=3, stride=1, padding=1, bias=True),\n",
        "\t                              nn.BatchNorm2d(self.n_filters), nn.LeakyReLU(True),\n",
        "\t                              nn.MaxPool2d(kernel_size=2, stride=2, return_indices=False))\n",
        "\t\tself.layer4 = nn.Sequential(nn.Conv2d(self.n_filters, self.n_filters, kernel_size=3, stride=1, padding=1, bias=True),\n",
        "\t                              nn.BatchNorm2d(self.n_filters), nn.LeakyReLU(True),\n",
        "\t                              nn.MaxPool2d(kernel_size=2, stride=2, return_indices=False))\n",
        "\t\tself.out = nn.Linear(self.n_filters * ds_size ** 2, num_classes)\n",
        "\t\tself.softmax = nn.Softmax()\n",
        "\n",
        "\n",
        "\n",
        "\tdef forward(self, x):\n",
        "\t\tx = self.layer1(x)\n",
        "\t\tx = self.lrelu(x)\n",
        "\n",
        "\t\tx = self.layer2(x)\n",
        "\t\tx = self.lrelu(x)\n",
        "\n",
        "\t\tx = self.layer3(x)\n",
        "\t\tx = self.lrelu(x)\n",
        "\n",
        "\t\tx = self.layer4(x)\n",
        "\t\tx = self.lrelu(x)\n",
        "\n",
        "\t\tx = x.view(x.size(0), -1)\n",
        "\t\tx = self.out(x)\n",
        "\t\toutput = self.softmax(x)\n",
        "\t\treturn output"
      ],
      "execution_count": 6,
      "outputs": []
    },
    {
      "cell_type": "code",
      "metadata": {
        "id": "l7j7CDO_aYNR"
      },
      "source": [
        "class GLICO(nn.Module):\n",
        "\tdef __init__(self, netZ, Generator, Classifier,noise=False):\n",
        "\t\tsuper(GLICO, self).__init__()\n",
        "\t\tself.netZ = netZ\n",
        "\t\tself.Generator = Generator\n",
        "\t\tself.Classifier = Classifier\n",
        "\t\tself.noise = noise\n",
        "\n",
        "\tdef forward(self,xi,code):\n",
        "\t\tzi = self.netZ(xi)\n",
        "\t\tif self.noise == 'True':\n",
        "\t\t\tshape = zi.size()\n",
        "\t\t\tstddev = np.random.uniform(0 / 255.0, 50 / 255.0, size=shape)\n",
        "\t\t\tnoise = torch.randn_like(zi).float()\n",
        "\t\t\tzi= zi + noise * torch.tensor(train_stddev).float()\n",
        "   \n",
        "\t\t\tx_hat = self.Generator(zi, code)\n",
        "\t\telse:\n",
        "\t\t\tx_hat = self.Generator(zi, code)\n",
        "\t\treturn x_hat\n",
        "    "
      ],
      "execution_count": 17,
      "outputs": []
    },
    {
      "cell_type": "markdown",
      "metadata": {
        "id": "oDPOVZgyKWbe"
      },
      "source": [
        "## 2. Replication of results on one of the datasets ( CIFAR-100)\n"
      ]
    },
    {
      "cell_type": "markdown",
      "metadata": {
        "id": "ZZ7bSWbXZkZR"
      },
      "source": [
        "Import the CIFAR-100 data set split it to train / val / test and create n labeled samples per class for training. n is a small number of data 10 for example."
      ]
    },
    {
      "cell_type": "code",
      "metadata": {
        "colab": {
          "base_uri": "https://localhost:8080/",
          "height": 183,
          "referenced_widgets": [
            "db31b030b65e40458ba6211484456f5a",
            "36fd12a8cb804cc69d52b3a55073e937",
            "6a3271af4cb0422d87e14d646733bd56",
            "9179bf34c709465d96f9432ae7b990a0",
            "6d20a613d320466496391fa4acb51acb",
            "e798c33bcfb34cf6a6efe603baf3e83c",
            "eedea947131e4c5e99cacf98431d7367",
            "75fafcb48ef746c5ab7fe96b5d00a09f",
            "ea7620deb3554bae9ddbfb2130cae112",
            "ade3f1be63c54aabb57f0c5f9c56b2e9",
            "26e9a604a60a45f58be77020fa0ec116",
            "a79806a369324de9939256d24d99a74e",
            "d73e38bab72f4ed7a5324e90027a646a",
            "7ac992c584264d76a4699a18274f8f2f",
            "3074a046b642482bbfd262bdb54d28e3",
            "7aa81be1df7c4200a56ac11642134ef9"
          ]
        },
        "id": "k4t0xJSVTtrH",
        "outputId": "ca4d09f7-b8e3-4ef3-e315-d179237de808"
      },
      "source": [
        "base_dataset = torchvision.datasets.CIFAR100(root='./cifar_labeled', train=True, download=True)\n",
        "test_dataset = torchvision.datasets.CIFAR100(root='./cifar_unlabeled', train=False, download=True)\n",
        "X_train, X_val, y_train, y_val = train_test_split(base_dataset.data, base_dataset.targets, test_size=0.2)"
      ],
      "execution_count": 7,
      "outputs": [
        {
          "output_type": "stream",
          "text": [
            "Downloading https://www.cs.toronto.edu/~kriz/cifar-100-python.tar.gz to ./cifar_labeled/cifar-100-python.tar.gz\n"
          ],
          "name": "stdout"
        },
        {
          "output_type": "display_data",
          "data": {
            "application/vnd.jupyter.widget-view+json": {
              "model_id": "db31b030b65e40458ba6211484456f5a",
              "version_minor": 0,
              "version_major": 2
            },
            "text/plain": [
              "HBox(children=(FloatProgress(value=0.0, max=169001437.0), HTML(value='')))"
            ]
          },
          "metadata": {
            "tags": []
          }
        },
        {
          "output_type": "stream",
          "text": [
            "\n",
            "Extracting ./cifar_labeled/cifar-100-python.tar.gz to ./cifar_labeled\n",
            "Downloading https://www.cs.toronto.edu/~kriz/cifar-100-python.tar.gz to ./cifar_unlabeled/cifar-100-python.tar.gz\n"
          ],
          "name": "stdout"
        },
        {
          "output_type": "display_data",
          "data": {
            "application/vnd.jupyter.widget-view+json": {
              "model_id": "ea7620deb3554bae9ddbfb2130cae112",
              "version_minor": 0,
              "version_major": 2
            },
            "text/plain": [
              "HBox(children=(FloatProgress(value=0.0, max=169001437.0), HTML(value='')))"
            ]
          },
          "metadata": {
            "tags": []
          }
        },
        {
          "output_type": "stream",
          "text": [
            "\n",
            "Extracting ./cifar_unlabeled/cifar-100-python.tar.gz to ./cifar_unlabeled\n"
          ],
          "name": "stdout"
        }
      ]
    },
    {
      "cell_type": "code",
      "metadata": {
        "id": "ZsjoIV4NwbK8"
      },
      "source": [
        "#total data points per class = 5000\n",
        "n_labeled_per_class= 10\n",
        "n_unlabled_per_class= 4990\n",
        "\n",
        "labels=np.array(y_train)\n",
        "train_labeled_idxs = []\n",
        "train_unlabeled_idxs = []\n",
        "\n",
        "for i in range(10):  #n_classes = 10\n",
        "  idxs = np.where(labels == i)[0]\n",
        "  np.random.shuffle(idxs)\n",
        "  train_labeled_idxs.extend(idxs[:n_labeled_per_class])\n",
        "  train_unlabeled_idxs.extend(idxs[n_labeled_per_class:])\n",
        "np.random.shuffle(train_labeled_idxs)\n",
        "np.random.shuffle(train_unlabeled_idxs)"
      ],
      "execution_count": 8,
      "outputs": []
    },
    {
      "cell_type": "code",
      "metadata": {
        "id": "4UrW9_zw4cTZ"
      },
      "source": [
        "X_train_labeled, y_train_labeled = X_train[train_labeled_idxs], np.array(y_train)[train_labeled_idxs]"
      ],
      "execution_count": 10,
      "outputs": []
    },
    {
      "cell_type": "code",
      "metadata": {
        "id": "SHKqjUDJrERw"
      },
      "source": [
        "class CIFARDataset(torch_data.Dataset):\n",
        "\tdef __init__(self, X, y ):\n",
        "\t\tsuper(CIFARDataset, self).__init__()\n",
        "\t\tself.X = torch.tensor(X, dtype=torch.long)\n",
        "\t\tself.y = torch.tensor(y, dtype=torch.long)\n",
        "\n",
        "\tdef __len__(self):\n",
        "\t\treturn len(self.X)\n",
        "\n",
        "\tdef __getitem__(self, idx):\n",
        "\t\treturn self.X[idx], self.y[idx]"
      ],
      "execution_count": 11,
      "outputs": []
    },
    {
      "cell_type": "code",
      "metadata": {
        "id": "HCvjbo3f-pRT"
      },
      "source": [
        "# transform=torchvision.transforms.Compose([transforms.ToPILImage(),\n",
        "# \t\t\t  \t                                transforms.RandomCrop(32, padding=4),\n",
        "# \t\t\t\t                                  transforms.RandomHorizontalFlip(p=0.5)])\n",
        "train_dataset=CIFARDataset(X_train_labeled,y_train_labeled)\n",
        "train_dataloader = torch.utils.data.DataLoader(train_dataset, batch_size=50, shuffle=True) \n",
        "\n",
        "val_dataset=CIFARDataset(X_val,y_val)\n",
        "val_dataloader = torch.utils.data.DataLoader(val_dataset, batch_size=50, shuffle=False) "
      ],
      "execution_count": 16,
      "outputs": []
    },
    {
      "cell_type": "markdown",
      "metadata": {
        "id": "yRFT7wh1c8dW"
      },
      "source": [
        "Intiate the model and hyperparameters."
      ]
    },
    {
      "cell_type": "code",
      "metadata": {
        "id": "pXMynkPXj7Gt"
      },
      "source": [
        "Z = netZ(10000,1024)\n",
        "G = Generator(100,32,100,noise=False)\n",
        "C = Classifier(100)\n",
        "Model = GLICO(Z,G,C)\n",
        "batch_size= 50\n",
        "lr= 1e-3\n",
        "epochs= 10\n",
        "\n",
        "device = torch.device('cuda:0' if torch.cuda.is_available() else 'cpu')\n",
        "\n",
        "optimizerG = torch.optim.Adam(G.parameters(), lr=lr, betas=(0.5, 0.999))\n",
        "optimizerZ = torch.optim.Adam(Z.parameters(), lr=lr, betas=(0.5, 0.999))\n",
        "optimizerC = torch.optim.SGD( C.parameters(), lr=lr, momentum=0.9, weight_decay=1e-4)\n",
        "\n",
        "scheduler = torch.optim.lr_scheduler.MultiStepLR(optimizerC, milestones=[60, 120, 160 ], gamma=0.2)\n",
        "d_criterion = nn.CrossEntropyLoss()"
      ],
      "execution_count": 19,
      "outputs": []
    },
    {
      "cell_type": "code",
      "metadata": {
        "id": "E16-YtV8jxOG"
      },
      "source": [
        "def train(Model, optimizerG,optimizerZ,optimizerC,loss_function, train_dataloader, val_dataloader, device, epochs_n=1, scheduler=None):\n",
        "    model = Model.to(device)\n",
        "    for epoch in trange(epochs_n):\n",
        "        model.train()\n",
        "        losess=[]\n",
        "        for model_input, target in train_dataloader:\n",
        "            print(model_input.shape)\n",
        "            model_input = model_input.to(device)\n",
        "            target = target.to(device)\n",
        "            model_output = model(model_input, 0)\n",
        "            loss = loss_function(model_output, target)\n",
        "      \n",
        "            optimizerZ.zero_grad()\n",
        "            optimizerG.zero_grad()\n",
        "            optimizerD.zero_grad()\n",
        "\n",
        "            loss.backward()\n",
        "\n",
        "            optimizerZ.step()\n",
        "            optimizerG.step()\n",
        "            optimizerC.step()\n",
        "\n",
        "            losses.append(loss)\n",
        "        return losses\n",
        "        \n",
        "        scheduler.step()      "
      ],
      "execution_count": 20,
      "outputs": []
    },
    {
      "cell_type": "code",
      "metadata": {
        "id": "e9xhWgiSDSEJ"
      },
      "source": [
        "train(Model, optimizerG ,optimizerZ ,optimizerC ,d_criterion, train_dataloader, val_dataloader, device, 5, 1, scheduler)"
      ],
      "execution_count": null,
      "outputs": []
    },
    {
      "cell_type": "markdown",
      "metadata": {
        "id": "NmrIef5IJwCu"
      },
      "source": [
        "### Expirment 1\n"
      ]
    },
    {
      "cell_type": "markdown",
      "metadata": {
        "id": "wOHoWmE1moty"
      },
      "source": [
        "Expermint with Autoaugment and cut-out:\n",
        "Two classes below are taken from orginal repositry \n",
        "-experminet was not finished because training in the previous step failed-"
      ]
    },
    {
      "cell_type": "code",
      "metadata": {
        "id": "JOlMD52zmS5w"
      },
      "source": [
        "import random\n",
        "import numpy as np\n",
        "import scipy\n",
        "import torch\n",
        "from scipy import ndimage\n",
        "from PIL import Image, ImageEnhance, ImageOps\n",
        "\n",
        "\n",
        "class AutoAugment(object):\n",
        "\tdef __init__(self):\n",
        "\t\tself.policies = [\n",
        "\t\t\t\t['Invert', 0.1, 7, 'Contrast', 0.2, 6],\n",
        "\t\t\t\t['Rotate', 0.7, 2, 'TranslateX', 0.3, 9],\n",
        "\t\t\t\t['Sharpness', 0.8, 1, 'Sharpness', 0.9, 3],\n",
        "\t\t\t\t['ShearY', 0.5, 8, 'TranslateY', 0.7, 9],\n",
        "\t\t\t\t['AutoContrast', 0.5, 8, 'Equalize', 0.9, 2],\n",
        "\t\t\t\t['ShearY', 0.2, 7, 'Posterize', 0.3, 7],\n",
        "\t\t\t\t['Color', 0.4, 3, 'Brightness', 0.6, 7],\n",
        "\t\t\t\t['Sharpness', 0.3, 9, 'Brightness', 0.7, 9],\n",
        "\t\t\t\t['Equalize', 0.6, 5, 'Equalize', 0.5, 1],\n",
        "\t\t\t\t['Contrast', 0.6, 7, 'Sharpness', 0.6, 5],\n",
        "\t\t\t\t['Color', 0.7, 7, 'TranslateX', 0.5, 8],\n",
        "\t\t\t\t['Equalize', 0.3, 7, 'AutoContrast', 0.4, 8],\n",
        "\t\t\t\t['TranslateY', 0.4, 3, 'Sharpness', 0.2, 6],\n",
        "\t\t\t\t['Brightness', 0.9, 6, 'Color', 0.2, 8],\n",
        "\t\t\t\t['Solarize', 0.5, 2, 'Invert', 0, 0.3],\n",
        "\t\t\t\t['Equalize', 0.2, 0, 'AutoContrast', 0.6, 0],\n",
        "\t\t\t\t['Equalize', 0.2, 8, 'Equalize', 0.6, 4],\n",
        "\t\t\t\t['Color', 0.9, 9, 'Equalize', 0.6, 6],\n",
        "\t\t\t\t['AutoContrast', 0.8, 4, 'Solarize', 0.2, 8],\n",
        "\t\t\t\t['Brightness', 0.1, 3, 'Color', 0.7, 0],\n",
        "\t\t\t\t['Solarize', 0.4, 5, 'AutoContrast', 0.9, 3],\n",
        "\t\t\t\t['TranslateY', 0.9, 9, 'TranslateY', 0.7, 9],\n",
        "\t\t\t\t['AutoContrast', 0.9, 2, 'Solarize', 0.8, 3],\n",
        "\t\t\t\t['Equalize', 0.8, 8, 'Invert', 0.1, 3],\n",
        "\t\t\t\t['TranslateY', 0.7, 9, 'AutoContrast', 0.9, 1],\n",
        "\t\t\t\t]\n",
        "\n",
        "\tdef __call__(self, img):\n",
        "\t\timg = apply_policy(img, self.policies[random.randrange(len(self.policies))])\n",
        "\t\treturn img\n",
        "\n",
        "\n",
        "operations = {\n",
        "\t\t'ShearX': lambda img, magnitude: shear_x(img, magnitude),\n",
        "\t\t'ShearY': lambda img, magnitude: shear_y(img, magnitude),\n",
        "\t\t'TranslateX': lambda img, magnitude: translate_x(img, magnitude),\n",
        "\t\t'TranslateY': lambda img, magnitude: translate_y(img, magnitude),\n",
        "\t\t'Rotate': lambda img, magnitude: rotate(img, magnitude),\n",
        "\t\t'AutoContrast': lambda img, magnitude: auto_contrast(img, magnitude),\n",
        "\t\t'Invert': lambda img, magnitude: invert(img, magnitude),\n",
        "\t\t'Equalize': lambda img, magnitude: equalize(img, magnitude),\n",
        "\t\t'Solarize': lambda img, magnitude: solarize(img, magnitude),\n",
        "\t\t'Posterize': lambda img, magnitude: posterize(img, magnitude),\n",
        "\t\t'Contrast': lambda img, magnitude: contrast(img, magnitude),\n",
        "\t\t'Color': lambda img, magnitude: color(img, magnitude),\n",
        "\t\t'Brightness': lambda img, magnitude: brightness(img, magnitude),\n",
        "\t\t'Sharpness': lambda img, magnitude: sharpness(img, magnitude),\n",
        "\t\t'Cutout': lambda img, magnitude: cutout(img, magnitude),\n",
        "\t\t}\n",
        "\n",
        "\n",
        "def apply_policy(img, policy):\n",
        "\tif random.random() < policy[1]:\n",
        "\t\timg = operations[policy[0]](img, policy[2])\n",
        "\tif random.random() < policy[4]:\n",
        "\t\timg = operations[policy[3]](img, policy[5])\n",
        "\n",
        "\treturn img\n",
        "\n",
        "\n",
        "def transform_matrix_offset_center(matrix, x, y):\n",
        "\to_x = float(x) / 2 + 0.5\n",
        "\to_y = float(y) / 2 + 0.5\n",
        "\toffset_matrix = np.array([[1, 0, o_x], [0, 1, o_y], [0, 0, 1]])\n",
        "\treset_matrix = np.array([[1, 0, -o_x], [0, 1, -o_y], [0, 0, 1]])\n",
        "\ttransform_matrix = offset_matrix @ matrix @ reset_matrix\n",
        "\treturn transform_matrix\n",
        "\n",
        "\n",
        "def shear_x(img, magnitude):\n",
        "\timg = np.array(img)\n",
        "\tmagnitudes = np.linspace(-0.3, 0.3, 11)\n",
        "\n",
        "\ttransform_matrix = np.array([[1, random.uniform(magnitudes[magnitude], magnitudes[magnitude+1]), 0],\n",
        "\t                             [0, 1, 0],\n",
        "\t                             [0, 0, 1]])\n",
        "\ttransform_matrix = transform_matrix_offset_center(transform_matrix, img.shape[0], img.shape[1])\n",
        "\taffine_matrix = transform_matrix[:2, :2]\n",
        "\toffset = transform_matrix[:2, 2]\n",
        "\timg = np.stack([ndimage.interpolation.affine_transform(\n",
        "\t\t\timg[:, :, c],\n",
        "\t\t\taffine_matrix,\n",
        "\t\t\toffset) for c in range(img.shape[2])], axis=2)\n",
        "\timg = Image.fromarray(img)\n",
        "\treturn img\n",
        "\n",
        "\n",
        "def shear_y(img, magnitude):\n",
        "\timg = np.array(img)\n",
        "\tmagnitudes = np.linspace(-0.3, 0.3, 11)\n",
        "\n",
        "\ttransform_matrix = np.array([[1, 0, 0],\n",
        "\t                             [random.uniform(magnitudes[magnitude], magnitudes[magnitude+1]), 1, 0],\n",
        "\t                             [0, 0, 1]])\n",
        "\ttransform_matrix = transform_matrix_offset_center(transform_matrix, img.shape[0], img.shape[1])\n",
        "\taffine_matrix = transform_matrix[:2, :2]\n",
        "\toffset = transform_matrix[:2, 2]\n",
        "\timg = np.stack([ndimage.interpolation.affine_transform(\n",
        "\t\t\timg[:, :, c],\n",
        "\t\t\taffine_matrix,\n",
        "\t\t\toffset) for c in range(img.shape[2])], axis=2)\n",
        "\timg = Image.fromarray(img)\n",
        "\treturn img\n",
        "\n",
        "\n",
        "def translate_x(img, magnitude):\n",
        "\timg = np.array(img)\n",
        "\tmagnitudes = np.linspace(-150/331, 150/331, 11)\n",
        "\n",
        "\ttransform_matrix = np.array([[1, 0, 0],\n",
        "\t                             [0, 1, img.shape[1]*random.uniform(magnitudes[magnitude], magnitudes[magnitude+1])],\n",
        "\t                             [0, 0, 1]])\n",
        "\ttransform_matrix = transform_matrix_offset_center(transform_matrix, img.shape[0], img.shape[1])\n",
        "\taffine_matrix = transform_matrix[:2, :2]\n",
        "\toffset = transform_matrix[:2, 2]\n",
        "\timg = np.stack([ndimage.interpolation.affine_transform(\n",
        "\t\t\timg[:, :, c],\n",
        "\t\t\taffine_matrix,\n",
        "\t\t\toffset) for c in range(img.shape[2])], axis=2)\n",
        "\timg = Image.fromarray(img)\n",
        "\treturn img\n",
        "\n",
        "\n",
        "def translate_y(img, magnitude):\n",
        "\timg = np.array(img)\n",
        "\tmagnitudes = np.linspace(-150/331, 150/331, 11)\n",
        "\n",
        "\ttransform_matrix = np.array([[1, 0, img.shape[0]*random.uniform(magnitudes[magnitude], magnitudes[magnitude+1])],\n",
        "\t                             [0, 1, 0],\n",
        "\t                             [0, 0, 1]])\n",
        "\ttransform_matrix = transform_matrix_offset_center(transform_matrix, img.shape[0], img.shape[1])\n",
        "\taffine_matrix = transform_matrix[:2, :2]\n",
        "\toffset = transform_matrix[:2, 2]\n",
        "\timg = np.stack([ndimage.interpolation.affine_transform(\n",
        "\t\t\timg[:, :, c],\n",
        "\t\t\taffine_matrix,\n",
        "\t\t\toffset) for c in range(img.shape[2])], axis=2)\n",
        "\timg = Image.fromarray(img)\n",
        "\treturn img\n",
        "\n",
        "\n",
        "def rotate(img, magnitude):\n",
        "\timg = np.array(img)\n",
        "\tmagnitudes = np.linspace(-30, 30, 11)\n",
        "\ttheta = np.deg2rad(random.uniform(magnitudes[magnitude], magnitudes[magnitude+1]))\n",
        "\ttransform_matrix = np.array([[np.cos(theta), -np.sin(theta), 0],\n",
        "\t                             [np.sin(theta), np.cos(theta), 0],\n",
        "\t                             [0, 0, 1]])\n",
        "\ttransform_matrix = transform_matrix_offset_center(transform_matrix, img.shape[0], img.shape[1])\n",
        "\taffine_matrix = transform_matrix[:2, :2]\n",
        "\toffset = transform_matrix[:2, 2]\n",
        "\timg = np.stack([ndimage.interpolation.affine_transform(\n",
        "\t\t\timg[:, :, c],\n",
        "\t\t\taffine_matrix,\n",
        "\t\t\toffset) for c in range(img.shape[2])], axis=2)\n",
        "\timg = Image.fromarray(img)\n",
        "\treturn img\n",
        "\n",
        "\n",
        "def auto_contrast(img, magnitude):\n",
        "\timg = ImageOps.autocontrast(img)\n",
        "\treturn img\n",
        "\n",
        "\n",
        "def invert(img, magnitude):\n",
        "\timg = ImageOps.invert(img)\n",
        "\treturn img\n",
        "\n",
        "\n",
        "def equalize(img, magnitude):\n",
        "\timg = ImageOps.equalize(img)\n",
        "\treturn img\n",
        "\n",
        "\n",
        "def solarize(img, magnitude):\n",
        "\tmagnitudes = np.linspace(0, 256, 11)\n",
        "\timg = ImageOps.solarize(img, random.uniform(magnitudes[magnitude], magnitudes[magnitude+1]))\n",
        "\treturn img\n",
        "\n",
        "\n",
        "def posterize(img, magnitude):\n",
        "\tmagnitudes = np.linspace(4, 8, 11)\n",
        "\timg = ImageOps.posterize(img, int(round(random.uniform(magnitudes[magnitude], magnitudes[magnitude+1]))))\n",
        "\treturn img\n",
        "\n",
        "\n",
        "def contrast(img, magnitude):\n",
        "\tmagnitudes = np.linspace(0.1, 1.9, 11)\n",
        "\timg = ImageEnhance.Contrast(img).enhance(random.uniform(magnitudes[magnitude], magnitudes[magnitude+1]))\n",
        "\treturn img\n",
        "\n",
        "\n",
        "def color(img, magnitude):\n",
        "\tmagnitudes = np.linspace(0.1, 1.9, 11)\n",
        "\timg = ImageEnhance.Color(img).enhance(random.uniform(magnitudes[magnitude], magnitudes[magnitude+1]))\n",
        "\treturn img\n",
        "\n",
        "\n",
        "def brightness(img, magnitude):\n",
        "\tmagnitudes = np.linspace(0.1, 1.9, 11)\n",
        "\timg = ImageEnhance.Brightness(img).enhance(random.uniform(magnitudes[magnitude], magnitudes[magnitude+1]))\n",
        "\treturn img\n",
        "\n",
        "\n",
        "def sharpness(img, magnitude):\n",
        "\tmagnitudes = np.linspace(0.1, 1.9, 11)\n",
        "\timg = ImageEnhance.Sharpness(img).enhance(random.uniform(magnitudes[magnitude], magnitudes[magnitude+1]))\n",
        "\treturn img\n",
        "\n",
        "\n",
        "def cutout(org_img, magnitude=None):\n",
        "\timg = np.array(img)\n",
        "\n",
        "\tmagnitudes = np.linspace(0, 60/331, 11)\n",
        "\n",
        "\timg = np.copy(org_img)\n",
        "\tmask_val = img.mean()\n",
        "\n",
        "\tif magnitude is None:\n",
        "\t\tmask_size = 16\n",
        "\telse:\n",
        "\t\tmask_size = int(round(img.shape[0]*random.uniform(magnitudes[magnitude], magnitudes[magnitude+1])))\n",
        "\ttop = np.random.randint(0 - mask_size//2, img.shape[0] - mask_size)\n",
        "\tleft = np.random.randint(0 - mask_size//2, img.shape[1] - mask_size)\n",
        "\tbottom = top + mask_size\n",
        "\tright = left + mask_size\n",
        "\n",
        "\tif top < 0:\n",
        "\t\ttop = 0\n",
        "\tif left < 0:\n",
        "\t\tleft = 0\n",
        "\n",
        "\timg[top:bottom, left:right, :].fill(mask_val)\n",
        "\n",
        "\timg = Image.fromarray(img)\n",
        "\n",
        "\treturn img\n",
        "\n",
        "\n",
        "\n",
        "class Cutout_(object):\n",
        "\tdef __init__(self, length=5):\n",
        "\t\tself.length = length\n",
        "\n",
        "\tdef __call__(self, img):\n",
        "\t\timg = np.array(img)\n",
        "\n",
        "\t\tmask_val = img.mean()\n",
        "\n",
        "\t\ttop = np.random.randint(0 - self.length//2, img.shape[0] - self.length)\n",
        "\t\tleft = np.random.randint(0 - self.length//2, img.shape[1] - self.length)\n",
        "\t\tbottom = top + self.length\n",
        "\t\tright = left + self.length\n",
        "\n",
        "\t\ttop = 0 if top < 0 else top\n",
        "\t\tleft = 0 if left < 0 else top\n",
        "\n",
        "\t\timg[top:bottom, left:right, :] = mask_val\n",
        "\n",
        "\t\timg = Image.fromarray(img)\n",
        "\n",
        "\t\treturn img"
      ],
      "execution_count": null,
      "outputs": []
    }
  ]
}